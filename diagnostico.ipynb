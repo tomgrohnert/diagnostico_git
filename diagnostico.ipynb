{
 "cells": [
  {
   "cell_type": "code",
   "execution_count": 1,
   "metadata": {},
   "outputs": [],
   "source": [
    "# dataset is an array of json objects\n",
    "def retweets(dataset):\n",
    "    dataset.sort(key=retweetCount, reverse=True)\n",
    "    top10 = dataset[:10]\n",
    "    return top10"
   ]
  },
  {
   "cell_type": "code",
   "execution_count": null,
   "metadata": {},
   "outputs": [],
   "source": [
    "def users(dataset):\n",
    "    user_list = {}\n",
    "    for tweet in dataset:\n",
    "        if tweet.users.id not in user_list:\n",
    "            user_list['tweet.users.id'] = 1\n",
    "        else:\n",
    "            user_list['tweet.users.id'] += 1\n",
    "    sorted_users = sorted(user_list.items(), reverse=True)\n",
    "    top10 = sorted_users[:10]\n",
    "    return top10"
   ]
  },
  {
   "cell_type": "code",
   "execution_count": null,
   "metadata": {},
   "outputs": [],
   "source": [
    "def days(dataset):\n",
    "    days_list = {}\n",
    "    for tweet in dataset:\n",
    "        if tweet.date not in days_list:\n",
    "            days_list['tweet.date'] = 1\n",
    "        else:\n",
    "            days_list['tweet.date'] += 1\n",
    "    sorted_days = sorted(days_list.items(), reverse=True)\n",
    "    top10 = sorted_days[:10]\n",
    "    return top10"
   ]
  },
  {
   "cell_type": "code",
   "execution_count": null,
   "metadata": {},
   "outputs": [],
   "source": [
    "def hashtags(dataset):\n",
    "    hashtags_list = {}\n",
    "    for tweet in dataset:\n",
    "        if tweet.date not in hashtags_list:\n",
    "            hashtags_list['tweet.date'] = 1\n",
    "        else:\n",
    "            hashtags_list['tweet.date'] += 1\n",
    "    sorted_hashtags = sorted(hashtags_list.items(), reverse=True)\n",
    "    top10 = sorted_hashtags[:10]\n",
    "    return top10"
   ]
  },
  {
   "cell_type": "code",
   "execution_count": null,
   "metadata": {},
   "outputs": [],
   "source": [
    "def main(dataset, function):\n",
    "    top_10_from_data = function(dataset)\n",
    "    return top_10_from_data"
   ]
  }
 ],
 "metadata": {
  "interpreter": {
   "hash": "e7728b6ad8374daaa99f47fb8211096136add34d4a073e31ee27e79366f3eb56"
  },
  "kernelspec": {
   "display_name": "Python 3.7.7 64-bit",
   "language": "python",
   "name": "python3"
  },
  "language_info": {
   "codemirror_mode": {
    "name": "ipython",
    "version": 3
   },
   "file_extension": ".py",
   "mimetype": "text/x-python",
   "name": "python",
   "nbconvert_exporter": "python",
   "pygments_lexer": "ipython3",
   "version": "3.7.7"
  },
  "orig_nbformat": 4
 },
 "nbformat": 4,
 "nbformat_minor": 2
}
